{
 "cells": [
  {
   "attachments": {},
   "cell_type": "markdown",
   "metadata": {},
   "source": [
    "# Leaf Disease Classification Model\n",
    "\n",
    "Applies transfer learning on pre-trained ImageNet models to identify if an image of a leaf is either healthy or diseased.\n",
    "\n",
    "Training metrics are logged to TensorBoard for real-time monitoring.\n",
    "\n",
    "`train_path` and `test_path` points to the directory containing the dataset. Each dataset contains two sub-directories for images of each class `healthy` and `diseased`.\n",
    "\n",
    "```\n",
    "train\n",
    "|-- diseased\n",
    "|   |-- diseased-0.jpg\n",
    "|   |-- dieased-1.jpg\n",
    "|   ...\n",
    "|-- healthy\n",
    "|   |-- healthy-0.jpg\n",
    "|   |-- healthy-1.jpg\n",
    "|   ...\n",
    "```\n"
   ]
  },
  {
   "cell_type": "code",
   "execution_count": 1,
   "metadata": {},
   "outputs": [],
   "source": [
    "from torch.utils.tensorboard import SummaryWriter\n",
    "from torchvision.datasets import ImageFolder\n",
    "import torchvision.transforms as transforms\n",
    "import torch\n",
    "import torch.onnx\n",
    "import torch.nn as nn\n",
    "import torchvision.models as models\n",
    "from torch.utils.data import random_split\n",
    "from torch.utils.data import DataLoader\n",
    "import os\n",
    "from utils import train, test, inference"
   ]
  },
  {
   "cell_type": "code",
   "execution_count": 2,
   "metadata": {},
   "outputs": [],
   "source": [
    "train_path = \"dataset/train\"\n",
    "test_path = \"dataset/test\"\n",
    "\n",
    "device = \"cuda\" if torch.cuda.is_available() else \"mps\" if torch.backends.mps.is_available() else \"cpu\"\n",
    "\n",
    "# Set seeds\n",
    "torch.manual_seed(1)\n",
    "torch.cuda.manual_seed(1)\n",
    "generator = torch.Generator().manual_seed(1)\n",
    "\n",
    "# Create output folder\n",
    "if not os.path.exists(\"models\"):\n",
    "    os.makedirs(\"models\")\n"
   ]
  },
  {
   "attachments": {},
   "cell_type": "markdown",
   "metadata": {},
   "source": [
    "## Choose Model\n",
    "\n",
    "Run one of the following code blocks to select the pre-trained ImageNet model for transfer learning. Model parameters are frozen besides for the final linear layer. In the case of \"Double FC Output\", the two last linear layers are unfrozen.\n",
    "\n",
    "### A. AlexNet"
   ]
  },
  {
   "cell_type": "code",
   "execution_count": null,
   "metadata": {},
   "outputs": [],
   "source": [
    "model_name = \"alexnet\"\n",
    "model = models.alexnet(weights=models.AlexNet_Weights.IMAGENET1K_V1)\n",
    "\n",
    "for param in model.parameters():\n",
    "    param.requires_grad = False\n",
    "\n",
    "model.classifier[6] = nn.Linear(4096, 1)\n",
    "model = model.to(device)"
   ]
  },
  {
   "attachments": {},
   "cell_type": "markdown",
   "metadata": {},
   "source": [
    "### B. ResNet18"
   ]
  },
  {
   "cell_type": "code",
   "execution_count": null,
   "metadata": {},
   "outputs": [],
   "source": [
    "model_name = \"resnet18\"\n",
    "model = models.resnet18(weights=models.ResNet18_Weights.IMAGENET1K_V1)\n",
    "\n",
    "for param in model.parameters():\n",
    "    param.requires_grad = False\n",
    "\n",
    "model.fc = nn.Linear(512, 1)\n",
    "model = model.to(device)"
   ]
  },
  {
   "attachments": {},
   "cell_type": "markdown",
   "metadata": {},
   "source": [
    "### C. MobileNetv3-S"
   ]
  },
  {
   "cell_type": "code",
   "execution_count": null,
   "metadata": {},
   "outputs": [],
   "source": [
    "model_name =\"mobilenetv3-s\"\n",
    "model = models.mobilenet_v3_small(weights=models.MobileNet_V3_Small_Weights.IMAGENET1K_V1)\n",
    "\n",
    "for param in model.parameters():\n",
    "    param.requires_grad = False\n",
    "\n",
    "model.classifier[3] = nn.Linear(1024, 1)\n",
    "model = model.to(device)"
   ]
  },
  {
   "attachments": {},
   "cell_type": "markdown",
   "metadata": {},
   "source": [
    "### D. EfficientNet-b4"
   ]
  },
  {
   "cell_type": "code",
   "execution_count": 3,
   "metadata": {},
   "outputs": [],
   "source": [
    "model_name =\"efficientnet-b4\"\n",
    "model = models.efficientnet_b4(weights=models.EfficientNet_B4_Weights.IMAGENET1K_V1)\n",
    "\n",
    "for param in model.parameters():\n",
    "    param.requires_grad = False\n",
    "\n",
    "model.classifier[1] = nn.Linear(1792, 1)\n",
    "model = model.to(device)"
   ]
  },
  {
   "attachments": {},
   "cell_type": "markdown",
   "metadata": {},
   "source": [
    "### E. ResNet50"
   ]
  },
  {
   "cell_type": "code",
   "execution_count": 3,
   "metadata": {},
   "outputs": [],
   "source": [
    "model_name = \"resnet50\"\n",
    "model = models.resnet50(weights=models.ResNet50_Weights.IMAGENET1K_V1)\n",
    "\n",
    "for param in model.parameters():\n",
    "    param.requires_grad = False\n",
    "\n",
    "model.fc = nn.Linear(2048, 1)\n",
    "model = model.to(device)"
   ]
  },
  {
   "attachments": {},
   "cell_type": "markdown",
   "metadata": {},
   "source": [
    "### F. MobileNetv3-L"
   ]
  },
  {
   "cell_type": "code",
   "execution_count": 3,
   "metadata": {},
   "outputs": [],
   "source": [
    "model_name =\"mobilenetv3-l\"\n",
    "model = models.mobilenet_v3_large(weights=models.MobileNet_V3_Large_Weights.IMAGENET1K_V1)\n",
    "\n",
    "\n",
    "for param in model.parameters():\n",
    "    param.requires_grad = False\n",
    "\n",
    "model.classifier[3] = nn.Linear(1280, 1)\n",
    "model = model.to(device)"
   ]
  },
  {
   "attachments": {},
   "cell_type": "markdown",
   "metadata": {},
   "source": [
    "### G. MobileNetv3-L Double FC Output"
   ]
  },
  {
   "cell_type": "code",
   "execution_count": 5,
   "metadata": {},
   "outputs": [],
   "source": [
    "model_name =\"mobilenetv3-l-doublefc\"\n",
    "model = models.mobilenet_v3_large(weights=models.MobileNet_V3_Large_Weights.IMAGENET1K_V1)\n",
    "\n",
    "\n",
    "for param in model.parameters():\n",
    "    param.requires_grad = False\n",
    "\n",
    "model.classifier[0] = nn.Linear(960, 1280)\n",
    "model.classifier[3] = nn.Linear(1280, 1)\n",
    "model = model.to(device)"
   ]
  },
  {
   "attachments": {},
   "cell_type": "markdown",
   "metadata": {},
   "source": [
    "### H. MobileNetv3-S Double FC Output"
   ]
  },
  {
   "cell_type": "code",
   "execution_count": 3,
   "metadata": {},
   "outputs": [],
   "source": [
    "model_name =\"mobilenetv3-s-doublefc\"\n",
    "model = models.mobilenet_v3_small(weights=models.MobileNet_V3_Small_Weights.IMAGENET1K_V1)\n",
    "\n",
    "for param in model.parameters():\n",
    "    param.requires_grad = False\n",
    "\n",
    "model.classifier[0] = nn.Linear(576, 1024)\n",
    "model.classifier[3] = nn.Linear(1024, 1)\n",
    "model = model.to(device)"
   ]
  },
  {
   "attachments": {},
   "cell_type": "markdown",
   "metadata": {},
   "source": [
    "## Load Data"
   ]
  },
  {
   "attachments": {},
   "cell_type": "markdown",
   "metadata": {},
   "source": [
    "### Choose Transformation\n",
    "Run one of the following code blocks to select the type of image augmentation to apply\n",
    "#### Standard"
   ]
  },
  {
   "cell_type": "code",
   "execution_count": 9,
   "metadata": {},
   "outputs": [],
   "source": [
    "transform = transforms.Compose([\n",
    "    transforms.Resize(256),\n",
    "    transforms.CenterCrop(224),\n",
    "    transforms.RandomRotation(30),\n",
    "    transforms.RandomHorizontalFlip(),\n",
    "    transforms.ToTensor(),\n",
    "    transforms.Normalize(mean=[0.485, 0.456, 0.406], std=[0.229, 0.224, 0.225]) # needed for ImageNet\n",
    "])"
   ]
  },
  {
   "attachments": {},
   "cell_type": "markdown",
   "metadata": {},
   "source": [
    "#### AugMix"
   ]
  },
  {
   "cell_type": "code",
   "execution_count": 4,
   "metadata": {},
   "outputs": [],
   "source": [
    "# Modified Shuffled Transformations\n",
    "transform = transforms.Compose([\n",
    "    transforms.Resize(256),\n",
    "    transforms.CenterCrop(224),\n",
    "    transforms.RandomRotation(180),\n",
    "    transforms.RandomHorizontalFlip(),\n",
    "    transforms.RandomVerticalFlip(),\n",
    "    transforms.AugMix(),\n",
    "    transforms.ToTensor(),\n",
    "    transforms.Normalize(mean=[0.485, 0.456, 0.406], std=[0.229, 0.224, 0.225]) # needed for ImageNet\n",
    "])\n",
    "\n",
    "model_name += '-augmix'"
   ]
  },
  {
   "attachments": {},
   "cell_type": "markdown",
   "metadata": {},
   "source": [
    "## Train Model\n",
    "\n",
    "Fine tunes the chosen pre-trained model. Trained models are checkpointed every 5 epochs to `./models`. Training metrics are logged to TensorBoard.\n",
    "\n",
    "Models are trainsed using:\n",
    "- Binary Cross Entropy Loss with Logits\n",
    "- Adam Optimizer"
   ]
  },
  {
   "cell_type": "code",
   "execution_count": null,
   "metadata": {},
   "outputs": [],
   "source": [
    "# Hyperparameters\n",
    "batch_size = 64\n",
    "epochs = 100\n",
    "learning_rate = 1e-3\n",
    "\n",
    "# Tensorboard writer\n",
    "writer = SummaryWriter()\n",
    "\n",
    "dataset = ImageFolder(train_path, transform=transform)\n",
    "train_data, val_data = random_split(dataset, [0.8, 0.2], generator=generator)\n",
    "\n",
    "train_dataloader = DataLoader(train_data, batch_size=batch_size, shuffle=True)\n",
    "val_dataloader = DataLoader(val_data, batch_size=batch_size, shuffle=True)\n",
    "\n",
    "loss_fn = nn.BCEWithLogitsLoss()\n",
    "optimizer = torch.optim.Adam(model.parameters(), lr=learning_rate)\n",
    "\n",
    "print(f\"Training {model_name}\")\n",
    "\n",
    "for t in range(epochs):\n",
    "    print(f\"Epoch {t+1}\\n-------------------------------\")\n",
    "    train(train_dataloader, model, loss_fn, optimizer, device, t, writer)\n",
    "    test(val_dataloader, model, loss_fn, device, t, writer)\n",
    "\n",
    "    if t % 5 == 0:\n",
    "        print(f\"Saving Checkpoint epoch: {t}\")\n",
    "        torch.save(model, f\"models/{model_name}-{t}.pt\")\n",
    "    \n",
    "print(\"Done!\")"
   ]
  },
  {
   "attachments": {},
   "cell_type": "markdown",
   "metadata": {},
   "source": [
    "## Test Model\n",
    "\n",
    "Tests the model from the given path on the following metrics:\n",
    "1. Accuracy\n",
    "2. F-1\n",
    "3. Precision\n",
    "4. Recall\n",
    "5. Binary Cross Entropy Loss\n",
    "6. Average run time for sample (either on GPU or CPU)"
   ]
  },
  {
   "cell_type": "code",
   "execution_count": 7,
   "metadata": {},
   "outputs": [],
   "source": [
    "model_path = r\"models\\mobilenetv3-l-doublefc\\mobilenetv3-l-doublefc-95.pt\"\n",
    "\n",
    "loss_fn = nn.BCEWithLogitsLoss()\n",
    "\n",
    "test_transform = transforms.Compose([\n",
    "    transforms.Resize(256),\n",
    "    transforms.CenterCrop(224),\n",
    "    transforms.ToTensor(),\n",
    "    transforms.Normalize(mean=[0.485, 0.456, 0.406], std=[0.229, 0.224, 0.225]) # needed for alexNet\n",
    "])\n",
    "\n",
    "test_dataset = ImageFolder(test_path, test_transform)\n",
    "test_dataloader = DataLoader(test_dataset, shuffle=False)\n",
    "model = torch.load(model_path)"
   ]
  },
  {
   "attachments": {},
   "cell_type": "markdown",
   "metadata": {},
   "source": [
    "### GPU Inference"
   ]
  },
  {
   "cell_type": "code",
   "execution_count": 8,
   "metadata": {},
   "outputs": [
    {
     "name": "stdout",
     "output_type": "stream",
     "text": [
      "Test Error: \n",
      " Accuracy: 99.450%, Avg loss: 0.022524 \n",
      " Precision: 0.995348, Recall: 0.991313, f1: 0.993326 Exec Time: 0.012157\n",
      "\n"
     ]
    }
   ],
   "source": [
    "inference(test_dataloader, model, loss_fn, \"cuda\")"
   ]
  },
  {
   "attachments": {},
   "cell_type": "markdown",
   "metadata": {},
   "source": [
    "### CPU Inference"
   ]
  },
  {
   "cell_type": "code",
   "execution_count": 9,
   "metadata": {},
   "outputs": [
    {
     "name": "stdout",
     "output_type": "stream",
     "text": [
      "Test Error: \n",
      " Accuracy: 99.450%, Avg loss: 0.022535 \n",
      " Precision: 0.995348, Recall: 0.991313, f1: 0.993326 Exec Time: 0.024576\n",
      "\n"
     ]
    }
   ],
   "source": [
    "inference(test_dataloader, model, loss_fn, \"cpu\")"
   ]
  },
  {
   "attachments": {},
   "cell_type": "markdown",
   "metadata": {},
   "source": [
    "## Export to ONNX\n",
    "Given a path to a trained model, export as a ONNX model so it can be used with the ONNX runtime in JavaScript"
   ]
  },
  {
   "cell_type": "markdown",
   "metadata": {},
   "source": [
    "ONNX runtime in JavaScript"
   ]
  },
  {
   "cell_type": "code",
   "execution_count": null,
   "metadata": {},
   "outputs": [],
   "source": [
    "model_path = r'models\\mobilenetv3-l\\mobilenetv3-l-20.pt'\n",
    "output_name = \"mobilenetv3-20.onnx\"\n",
    "\n",
    "model = torch.load(model_path).to('cpu')\n",
    "\n",
    "batch_size = 1    # just a random number\n",
    "x = torch.randn(batch_size, 3, 224, 224, requires_grad=True)\n",
    "\n",
    "torch.onnx.export(model,                     # model being run\n",
    "                  x,                         # model input (or a tuple for multiple inputs)\n",
    "                  model_name,    # where to save the model (can be a file or file-like object)\n",
    "                  input_names = ['image'],   # the model's input names\n",
    "                  output_names = ['class'],  # the model's output names\n",
    "                  dynamic_axes={'image' : {0 : 'batch_size'},    # variable length axes\n",
    "                                'class' : {0 : 'batch_size'}})"
   ]
  }
 ],
 "metadata": {
  "kernelspec": {
   "display_name": "leaf",
   "language": "python",
   "name": "python3"
  },
  "language_info": {
   "codemirror_mode": {
    "name": "ipython",
    "version": 3
   },
   "file_extension": ".py",
   "mimetype": "text/x-python",
   "name": "python",
   "nbconvert_exporter": "python",
   "pygments_lexer": "ipython3",
   "version": "3.10.10"
  },
  "orig_nbformat": 4
 },
 "nbformat": 4,
 "nbformat_minor": 2
}
